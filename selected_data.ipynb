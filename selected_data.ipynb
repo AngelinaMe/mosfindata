{
 "cells": [
  {
   "cell_type": "code",
   "execution_count": 1,
   "metadata": {},
   "outputs": [],
   "source": [
    "\n",
    "from plotly import __version__\n",
    "from plotly.offline import download_plotlyjs, init_notebook_mode, plot, iplot\n",
    "import plotly.graph_objs as go\n",
    "\n",
    "import requests\n",
    "from io import StringIO\n",
    "\n",
    "import re\n",
    "import pandas as pd\n",
    "import numpy as np\n",
    "from collections import defaultdict"
   ]
  },
  {
   "cell_type": "code",
   "execution_count": 2,
   "metadata": {
    "collapsed": true
   },
   "outputs": [],
   "source": [
    "df = pd.read_csv('data_utf8.csv', sep=';', header = 0)"
   ]
  },
  {
   "cell_type": "code",
   "execution_count": 3,
   "metadata": {},
   "outputs": [
    {
     "data": {
      "text/html": [
       "<div>\n",
       "<style>\n",
       "    .dataframe thead tr:only-child th {\n",
       "        text-align: right;\n",
       "    }\n",
       "\n",
       "    .dataframe thead th {\n",
       "        text-align: left;\n",
       "    }\n",
       "\n",
       "    .dataframe tbody tr th {\n",
       "        vertical-align: top;\n",
       "    }\n",
       "</style>\n",
       "<table border=\"1\" class=\"dataframe\">\n",
       "  <thead>\n",
       "    <tr style=\"text-align: right;\">\n",
       "      <th></th>\n",
       "      <th>d_spr_w_csr_name</th>\n",
       "      <th>d_spr_w_csr_code</th>\n",
       "      <th>2018</th>\n",
       "      <th>2019</th>\n",
       "      <th>2020</th>\n",
       "    </tr>\n",
       "  </thead>\n",
       "  <tbody>\n",
       "    <tr>\n",
       "      <th>0</th>\n",
       "      <td>\"Развитие транспортной системы\"</td>\n",
       "      <td>0100000000</td>\n",
       "      <td>542372923,40</td>\n",
       "      <td>569954987,30</td>\n",
       "      <td>576366227,30</td>\n",
       "    </tr>\n",
       "    <tr>\n",
       "      <th>1</th>\n",
       "      <td>\"Создание единого парковочного пространства\"</td>\n",
       "      <td>0130000000</td>\n",
       "      <td>7451063,80</td>\n",
       "      <td>6756600,10</td>\n",
       "      <td>6873317,60</td>\n",
       "    </tr>\n",
       "    <tr>\n",
       "      <th>2</th>\n",
       "      <td>\"Общественный транспорт «Метрополитен»\"</td>\n",
       "      <td>01А0000000</td>\n",
       "      <td>220835725,80</td>\n",
       "      <td>241609175,40</td>\n",
       "      <td>248460011,20</td>\n",
       "    </tr>\n",
       "    <tr>\n",
       "      <th>3</th>\n",
       "      <td>\"Общественный транспорт «Наземный городской п...</td>\n",
       "      <td>01Б0000000</td>\n",
       "      <td>40132335,70</td>\n",
       "      <td>45333866,80</td>\n",
       "      <td>43841119,60</td>\n",
       "    </tr>\n",
       "    <tr>\n",
       "      <th>4</th>\n",
       "      <td>\"Общественный транспорт «Железнодорожный тран...</td>\n",
       "      <td>01В0000000</td>\n",
       "      <td>13271657,40</td>\n",
       "      <td>14101191,00</td>\n",
       "      <td>14328848,20</td>\n",
       "    </tr>\n",
       "  </tbody>\n",
       "</table>\n",
       "</div>"
      ],
      "text/plain": [
       "                                    d_spr_w_csr_name d_spr_w_csr_code  \\\n",
       "0                    \"Развитие транспортной системы\"       0100000000   \n",
       "1       \"Создание единого парковочного пространства\"       0130000000   \n",
       "2            \"Общественный транспорт «Метрополитен»\"       01А0000000   \n",
       "3   \"Общественный транспорт «Наземный городской п...       01Б0000000   \n",
       "4   \"Общественный транспорт «Железнодорожный тран...       01В0000000   \n",
       "\n",
       "           2018          2019          2020  \n",
       "0  542372923,40  569954987,30  576366227,30  \n",
       "1    7451063,80    6756600,10    6873317,60  \n",
       "2  220835725,80  241609175,40  248460011,20  \n",
       "3   40132335,70   45333866,80   43841119,60  \n",
       "4   13271657,40   14101191,00   14328848,20  "
      ]
     },
     "execution_count": 3,
     "metadata": {},
     "output_type": "execute_result"
    }
   ],
   "source": [
    "df.head()"
   ]
  },
  {
   "cell_type": "code",
   "execution_count": 4,
   "metadata": {
    "collapsed": true
   },
   "outputs": [],
   "source": [
    "#df['d_spr_w_csr_name'].head()"
   ]
  },
  {
   "cell_type": "code",
   "execution_count": 5,
   "metadata": {
    "collapsed": true
   },
   "outputs": [],
   "source": [
    "df1 = df[df['d_spr_w_csr_code'] == '0100000000'] "
   ]
  },
  {
   "cell_type": "code",
   "execution_count": 6,
   "metadata": {},
   "outputs": [],
   "source": [
    "df2 = df[df['d_spr_w_csr_code'] == '0200000000']"
   ]
  },
  {
   "cell_type": "code",
   "execution_count": 7,
   "metadata": {},
   "outputs": [],
   "source": [
    "df3 = df[df['d_spr_w_csr_code'] == '0300000000']"
   ]
  },
  {
   "cell_type": "code",
   "execution_count": 8,
   "metadata": {},
   "outputs": [],
   "source": [
    "df4 = df[df['d_spr_w_csr_code'] == '0400000000']"
   ]
  },
  {
   "cell_type": "code",
   "execution_count": 9,
   "metadata": {},
   "outputs": [],
   "source": [
    "df5 = df[df['d_spr_w_csr_code'] == '0500000000']"
   ]
  },
  {
   "cell_type": "code",
   "execution_count": 10,
   "metadata": {},
   "outputs": [],
   "source": [
    "df6 = df[df['d_spr_w_csr_code'] == '0600000000']"
   ]
  },
  {
   "cell_type": "code",
   "execution_count": 11,
   "metadata": {
    "collapsed": true
   },
   "outputs": [],
   "source": [
    "df9 = df[df['d_spr_w_csr_code'] == '0900000000']"
   ]
  },
  {
   "cell_type": "code",
   "execution_count": 12,
   "metadata": {},
   "outputs": [],
   "source": [
    "df10 = df[df['d_spr_w_csr_code'] == '1000000000']"
   ]
  },
  {
   "cell_type": "code",
   "execution_count": 13,
   "metadata": {},
   "outputs": [],
   "source": [
    "df11 = df[df['d_spr_w_csr_code'] == '1100000000']"
   ]
  },
  {
   "cell_type": "code",
   "execution_count": 14,
   "metadata": {},
   "outputs": [],
   "source": [
    "df12 = df[df['d_spr_w_csr_code'] == '1200000000']"
   ]
  },
  {
   "cell_type": "code",
   "execution_count": 15,
   "metadata": {},
   "outputs": [],
   "source": [
    "df13 = df[df['d_spr_w_csr_code'] == '1300000000']"
   ]
  },
  {
   "cell_type": "code",
   "execution_count": 16,
   "metadata": {
    "collapsed": true
   },
   "outputs": [],
   "source": [
    "df14 = df[df['d_spr_w_csr_code'] == '1400000000']"
   ]
  },
  {
   "cell_type": "code",
   "execution_count": 17,
   "metadata": {
    "collapsed": true
   },
   "outputs": [],
   "source": [
    "df15 = df[df['d_spr_w_csr_code'] == '1500000000']"
   ]
  },
  {
   "cell_type": "code",
   "execution_count": 18,
   "metadata": {
    "collapsed": true
   },
   "outputs": [],
   "source": [
    "df17 = df[df['d_spr_w_csr_code'] == '1700000000']"
   ]
  },
  {
   "cell_type": "code",
   "execution_count": 19,
   "metadata": {
    "collapsed": true
   },
   "outputs": [],
   "source": [
    "df31 = df[df['d_spr_w_csr_code'] == '3100000000']"
   ]
  },
  {
   "cell_type": "code",
   "execution_count": 20,
   "metadata": {
    "collapsed": true
   },
   "outputs": [],
   "source": [
    "df32 = df[df['d_spr_w_csr_code'] == '3200000000']"
   ]
  },
  {
   "cell_type": "code",
   "execution_count": 21,
   "metadata": {
    "collapsed": true
   },
   "outputs": [],
   "source": [
    "df33 = df[df['d_spr_w_csr_code'] == '3300000000']"
   ]
  },
  {
   "cell_type": "code",
   "execution_count": 22,
   "metadata": {
    "collapsed": true
   },
   "outputs": [],
   "source": [
    "df34 = df[df['d_spr_w_csr_code'] == '3400000000']"
   ]
  },
  {
   "cell_type": "code",
   "execution_count": 23,
   "metadata": {
    "collapsed": true
   },
   "outputs": [],
   "source": [
    "df35 = df[df['d_spr_w_csr_code'] == '3500000000']"
   ]
  },
  {
   "cell_type": "code",
   "execution_count": 24,
   "metadata": {
    "collapsed": true
   },
   "outputs": [],
   "source": [
    "def combine(a,b):\n",
    "    budget_list = a.combine_first(b)\n",
    "    return(budget_list)\n",
    "\n",
    "table_budget = df1"
   ]
  },
  {
   "cell_type": "code",
   "execution_count": 25,
   "metadata": {},
   "outputs": [],
   "source": [
    "for frame in [df2,df3,df4,df5,df6,df9,df10,df11,df12,df13,df14,df15,df17,df31,df32,df33,df34,df35]:\n",
    "    table_budget = combine(table_budget,frame)"
   ]
  },
  {
   "cell_type": "code",
   "execution_count": 26,
   "metadata": {},
   "outputs": [],
   "source": [
    "table_budget = table_budget.reset_index()"
   ]
  },
  {
   "cell_type": "code",
   "execution_count": 27,
   "metadata": {},
   "outputs": [],
   "source": [
    "def parse_list(lst_str):\n",
    "    return filter(lambda y: y != '', \n",
    "                  map(lambda x: x.strip(), \n",
    "                      re.sub(r'[\\[\\]]', '', lst_str).split(',')))\n",
    "\n",
    "table_budget['d_spr_w_csr_name'] = table_budget['d_spr_w_csr_name'].fillna('[]')\n",
    "genres_data = []\n",
    "for record in table_budget.to_dict(orient = 'records'):\n",
    "    genres_lst = parse_list(record['d_spr_w_csr_name'])\n",
    "    for genre in genres_lst:\n",
    "        copy = record.copy()\n",
    "        copy['d_spr_w_csr_name'] = genre\n",
    "       \n",
    "        genres_data.append(copy)\n",
    "\n",
    "genres_df = pd.DataFrame.from_dict(genres_data)"
   ]
  },
  {
   "cell_type": "code",
   "execution_count": 28,
   "metadata": {
    "scrolled": false
   },
   "outputs": [
    {
     "data": {
      "text/html": [
       "<div>\n",
       "<style>\n",
       "    .dataframe thead tr:only-child th {\n",
       "        text-align: right;\n",
       "    }\n",
       "\n",
       "    .dataframe thead th {\n",
       "        text-align: left;\n",
       "    }\n",
       "\n",
       "    .dataframe tbody tr th {\n",
       "        vertical-align: top;\n",
       "    }\n",
       "</style>\n",
       "<table border=\"1\" class=\"dataframe\">\n",
       "  <thead>\n",
       "    <tr style=\"text-align: right;\">\n",
       "      <th></th>\n",
       "      <th>2018</th>\n",
       "      <th>2019</th>\n",
       "      <th>2020</th>\n",
       "      <th>d_spr_w_csr_code</th>\n",
       "      <th>d_spr_w_csr_name</th>\n",
       "      <th>index</th>\n",
       "    </tr>\n",
       "  </thead>\n",
       "  <tbody>\n",
       "    <tr>\n",
       "      <th>0</th>\n",
       "      <td>542372923,40</td>\n",
       "      <td>569954987,30</td>\n",
       "      <td>576366227,30</td>\n",
       "      <td>0100000000</td>\n",
       "      <td>\"Развитие транспортной системы\"</td>\n",
       "      <td>0</td>\n",
       "    </tr>\n",
       "    <tr>\n",
       "      <th>1</th>\n",
       "      <td>250686139,80</td>\n",
       "      <td>229565302,20</td>\n",
       "      <td>233615442,10</td>\n",
       "      <td>0200000000</td>\n",
       "      <td>\"Развитие здравоохранения города Москвы (Столи...</td>\n",
       "      <td>10</td>\n",
       "    </tr>\n",
       "    <tr>\n",
       "      <th>2</th>\n",
       "      <td>293920472,80</td>\n",
       "      <td>303974194,50</td>\n",
       "      <td>311109016,00</td>\n",
       "      <td>0300000000</td>\n",
       "      <td>\"Развитие образования города Москвы («Столично...</td>\n",
       "      <td>19</td>\n",
       "    </tr>\n",
       "    <tr>\n",
       "      <th>3</th>\n",
       "      <td>430779362,90</td>\n",
       "      <td>439324068,10</td>\n",
       "      <td>449838089,20</td>\n",
       "      <td>0400000000</td>\n",
       "      <td>\"Социальная поддержка жителей города Москвы\"</td>\n",
       "      <td>24</td>\n",
       "    </tr>\n",
       "    <tr>\n",
       "      <th>4</th>\n",
       "      <td>183354817,70</td>\n",
       "      <td>185788603,60</td>\n",
       "      <td>183758685,10</td>\n",
       "      <td>0500000000</td>\n",
       "      <td>\"Жилище\"</td>\n",
       "      <td>30</td>\n",
       "    </tr>\n",
       "  </tbody>\n",
       "</table>\n",
       "</div>"
      ],
      "text/plain": [
       "           2018          2019          2020 d_spr_w_csr_code  \\\n",
       "0  542372923,40  569954987,30  576366227,30       0100000000   \n",
       "1  250686139,80  229565302,20  233615442,10       0200000000   \n",
       "2  293920472,80  303974194,50  311109016,00       0300000000   \n",
       "3  430779362,90  439324068,10  449838089,20       0400000000   \n",
       "4  183354817,70  185788603,60  183758685,10       0500000000   \n",
       "\n",
       "                                    d_spr_w_csr_name  index  \n",
       "0                    \"Развитие транспортной системы\"      0  \n",
       "1  \"Развитие здравоохранения города Москвы (Столи...     10  \n",
       "2  \"Развитие образования города Москвы («Столично...     19  \n",
       "3       \"Социальная поддержка жителей города Москвы\"     24  \n",
       "4                                           \"Жилище\"     30  "
      ]
     },
     "execution_count": 28,
     "metadata": {},
     "output_type": "execute_result"
    }
   ],
   "source": [
    "genres_df.head()"
   ]
  },
  {
   "cell_type": "code",
   "execution_count": 163,
   "metadata": {},
   "outputs": [],
   "source": [
    "table_budget.to_csv('out.csv')"
   ]
  },
  {
   "cell_type": "code",
   "execution_count": 29,
   "metadata": {},
   "outputs": [],
   "source": [
    "top = genres_df.count().tolist()"
   ]
  },
  {
   "cell_type": "code",
   "execution_count": 136,
   "metadata": {},
   "outputs": [],
   "source": [
    "# cгенерируем цвета для визуализации\n",
    "N = top[0]\n",
    "\n",
    "listic = []\n",
    "for j in range(top[0] - 2):\n",
    "    listic.append(j+1)\n",
    "\n",
    "\n",
    "    \n",
    "c = ['hsl('+str(h)+',50%'+',50%)' for h in np.linspace(0, 360, N)]\n",
    "\n",
    "data = [{\n",
    "    'y': float(genres_df[genres_df.index == listic[i]]['2018'].to_frame().values[0][0].replace(',','.')),\n",
    "    'type': 'box',\n",
    "    'marker':{'color': c[i]} ,\n",
    "    'name': genres_df['d_spr_w_csr_name'][i]\n",
    "    } for i in range(top[0] - 2)]\n",
    "\n"
   ]
  },
  {
   "cell_type": "code",
   "execution_count": 137,
   "metadata": {},
   "outputs": [],
   "source": [
    "layout = go.Layout(\n",
    "    title='Оценки фильмов',\n",
    "    yaxis = {'title': 'Оценка КиноПоиска'}\n",
    ")   "
   ]
  },
  {
   "cell_type": "code",
   "execution_count": 75,
   "metadata": {},
   "outputs": [],
   "source": []
  },
  {
   "cell_type": "code",
   "execution_count": 145,
   "metadata": {},
   "outputs": [
    {
     "data": {
      "application/vnd.plotly.v1+json": {
       "data": [
        {
         "marker": {
          "color": "hsl(0.0,50%,50%)"
         },
         "name": "\"Развитие транспортной системы\"",
         "type": "box",
         "y": 250686139.8
        },
        {
         "marker": {
          "color": "hsl(18.0,50%,50%)"
         },
         "name": "\"Развитие здравоохранения города Москвы (Столичное здравоохранение)\"",
         "type": "box",
         "y": 293920472.8
        },
        {
         "marker": {
          "color": "hsl(36.0,50%,50%)"
         },
         "name": "\"Развитие образования города Москвы («Столичное образование»)\"",
         "type": "box",
         "y": 430779362.9
        },
        {
         "marker": {
          "color": "hsl(54.0,50%,50%)"
         },
         "name": "\"Социальная поддержка жителей города Москвы\"",
         "type": "box",
         "y": 183354817.7
        },
        {
         "marker": {
          "color": "hsl(72.0,50%,50%)"
         },
         "name": "\"Жилище\"",
         "type": "box",
         "y": 90079500.8
        },
        {
         "marker": {
          "color": "hsl(90.0,50%,50%)"
         },
         "name": "\"Развитие коммунально-инженерной инфраструктуры и энергосбережение\"",
         "type": "box",
         "y": 46011538.6
        },
        {
         "marker": {
          "color": "hsl(108.0,50%,50%)"
         },
         "name": "\"Культура Москвы\"",
         "type": "box",
         "y": 38020487.7
        },
        {
         "marker": {
          "color": "hsl(126.0,50%,50%)"
         },
         "name": "\"Спорт Москвы\"",
         "type": "box",
         "y": 19942254.7
        },
        {
         "marker": {
          "color": "hsl(144.0,50%,50%)"
         },
         "name": "\"Открытое Правительство\"",
         "type": "box",
         "y": 57937571.9
        },
        {
         "marker": {
          "color": "hsl(162.0,50%,50%)"
         },
         "name": "\"Информационный город\"",
         "type": "box",
         "y": 78128966.7
        },
        {
         "marker": {
          "color": "hsl(180.0,50%,50%)"
         },
         "name": "\"Развитие городской среды\"",
         "type": "box",
         "y": 50515578.2
        },
        {
         "marker": {
          "color": "hsl(198.0,50%,50%)"
         },
         "name": "\"Экономическое развитие и инвестиционная привлекательность города Москвы\"",
         "type": "box",
         "y": 21612134.9
        },
        {
         "marker": {
          "color": "hsl(216.0,50%,50%)"
         },
         "name": "\"Градостроительная политика\"",
         "type": "box",
         "y": 25129005.9
        },
        {
         "marker": {
          "color": "hsl(234.0,50%,50%)"
         },
         "name": "\"Безопасный город\"",
         "type": "box",
         "y": 51578051
        },
        {
         "marker": {
          "color": "hsl(252.0,50%,50%)"
         },
         "name": "\"Непрограммные направления деятельности органов государственной власти по руководству и управлению в сфере установленных функций органов государственной власти города Москвы\"",
         "type": "box",
         "y": 60000000
        },
        {
         "marker": {
          "color": "hsl(270.0,50%,50%)"
         },
         "name": "\"Резервный фонд",
         "type": "box",
         "y": 60000000
        },
        {
         "marker": {
          "color": "hsl(288.0,50%,50%)"
         },
         "name": "предусмотренный в бюджете города Москвы\"",
         "type": "box",
         "y": 938447.3
        },
        {
         "marker": {
          "color": "hsl(306.0,50%,50%)"
         },
         "name": "\"Непрограммные направления деятельности органов государственной власти в части предоставления межбюджетных трансфертов\"",
         "type": "box",
         "y": 2977961.6
        },
        {
         "marker": {
          "color": "hsl(324.0,50%,50%)"
         },
         "name": "\"Мероприятия по осуществлению капитальных вложений",
         "type": "box",
         "y": 2977961.6
        }
       ],
       "layout": {
        "title": "Оценки фильмов",
        "yaxis": {
         "title": "Оценка КиноПоиска"
        }
       }
      }
     },
     "metadata": {},
     "output_type": "display_data"
    },
    {
     "ename": "TypeError",
     "evalue": "'NoneType' object is not callable",
     "output_type": "error",
     "traceback": [
      "\u001b[0;31m---------------------------------------------------------------------------\u001b[0m",
      "\u001b[0;31mTypeError\u001b[0m                                 Traceback (most recent call last)",
      "\u001b[0;32m<ipython-input-145-81f39c4053e6>\u001b[0m in \u001b[0;36m<module>\u001b[0;34m()\u001b[0m\n\u001b[1;32m      1\u001b[0m \u001b[0mfig\u001b[0m \u001b[0;34m=\u001b[0m \u001b[0mgo\u001b[0m\u001b[0;34m.\u001b[0m\u001b[0mFigure\u001b[0m\u001b[0;34m(\u001b[0m\u001b[0mdata\u001b[0m \u001b[0;34m=\u001b[0m \u001b[0mdata\u001b[0m\u001b[0;34m,\u001b[0m \u001b[0mlayout\u001b[0m \u001b[0;34m=\u001b[0m \u001b[0mlayout\u001b[0m\u001b[0;34m)\u001b[0m\u001b[0;34m\u001b[0m\u001b[0m\n\u001b[1;32m      2\u001b[0m \u001b[0miplot\u001b[0m\u001b[0;34m(\u001b[0m\u001b[0mfig\u001b[0m\u001b[0;34m)\u001b[0m\u001b[0;34m\u001b[0m\u001b[0m\n\u001b[0;32m----> 3\u001b[0;31m \u001b[0mfig\u001b[0m\u001b[0;34m.\u001b[0m\u001b[0mshow\u001b[0m\u001b[0;34m(\u001b[0m\u001b[0;34m)\u001b[0m\u001b[0;34m\u001b[0m\u001b[0m\n\u001b[0m",
      "\u001b[0;31mTypeError\u001b[0m: 'NoneType' object is not callable"
     ]
    }
   ],
   "source": [
    "fig = go.Figure(data = data, layout = layout)\n",
    "iplot(fig)\n"
   ]
  },
  {
   "cell_type": "code",
   "execution_count": 151,
   "metadata": {},
   "outputs": [
    {
     "name": "stdout",
     "output_type": "stream",
     "text": [
      "250686139.8\n",
      "293920472.8\n",
      "430779362.9\n",
      "183354817.7\n",
      "90079500.8\n",
      "46011538.6\n",
      "38020487.7\n",
      "19942254.7\n",
      "57937571.9\n",
      "78128966.7\n",
      "50515578.2\n",
      "21612134.9\n",
      "25129005.9\n",
      "51578051.0\n",
      "60000000.0\n",
      "60000000.0\n",
      "938447.3\n",
      "2977961.6\n",
      "2977961.6\n"
     ]
    }
   ],
   "source": [
    "y_list()\n",
    "for k in data:\n",
    "    y_list.append(k['y'])"
   ]
  },
  {
   "cell_type": "code",
   "execution_count": 110,
   "metadata": {},
   "outputs": [],
   "source": [
    "df = genres_df[genres_df.index == listic[i]]['2018'].to_frame().values[0][0]"
   ]
  },
  {
   "cell_type": "code",
   "execution_count": 116,
   "metadata": {},
   "outputs": [
    {
     "data": {
      "text/plain": [
       "str"
      ]
     },
     "execution_count": 116,
     "metadata": {},
     "output_type": "execute_result"
    }
   ],
   "source": [
    "type(genres_df[genres_df.index == listic[i]]['2018','2019','2020'].to_frame().values[0][0])"
   ]
  },
  {
   "cell_type": "code",
   "execution_count": 150,
   "metadata": {},
   "outputs": [
    {
     "data": {
      "text/plain": [
       "[{'marker': {'color': 'hsl(0.0,50%,50%)'},\n",
       "  'name': '\"Развитие транспортной системы\"',\n",
       "  'type': 'box',\n",
       "  'y': 250686139.8},\n",
       " {'marker': {'color': 'hsl(18.0,50%,50%)'},\n",
       "  'name': '\"Развитие здравоохранения города Москвы (Столичное здравоохранение)\"',\n",
       "  'type': 'box',\n",
       "  'y': 293920472.8},\n",
       " {'marker': {'color': 'hsl(36.0,50%,50%)'},\n",
       "  'name': '\"Развитие образования города Москвы («Столичное образование»)\"',\n",
       "  'type': 'box',\n",
       "  'y': 430779362.9},\n",
       " {'marker': {'color': 'hsl(54.0,50%,50%)'},\n",
       "  'name': '\"Социальная поддержка жителей города Москвы\"',\n",
       "  'type': 'box',\n",
       "  'y': 183354817.7},\n",
       " {'marker': {'color': 'hsl(72.0,50%,50%)'},\n",
       "  'name': '\"Жилище\"',\n",
       "  'type': 'box',\n",
       "  'y': 90079500.8},\n",
       " {'marker': {'color': 'hsl(90.0,50%,50%)'},\n",
       "  'name': '\"Развитие коммунально-инженерной инфраструктуры и энергосбережение\"',\n",
       "  'type': 'box',\n",
       "  'y': 46011538.6},\n",
       " {'marker': {'color': 'hsl(108.0,50%,50%)'},\n",
       "  'name': '\"Культура Москвы\"',\n",
       "  'type': 'box',\n",
       "  'y': 38020487.7},\n",
       " {'marker': {'color': 'hsl(126.0,50%,50%)'},\n",
       "  'name': '\"Спорт Москвы\"',\n",
       "  'type': 'box',\n",
       "  'y': 19942254.7},\n",
       " {'marker': {'color': 'hsl(144.0,50%,50%)'},\n",
       "  'name': '\"Открытое Правительство\"',\n",
       "  'type': 'box',\n",
       "  'y': 57937571.9},\n",
       " {'marker': {'color': 'hsl(162.0,50%,50%)'},\n",
       "  'name': '\"Информационный город\"',\n",
       "  'type': 'box',\n",
       "  'y': 78128966.7},\n",
       " {'marker': {'color': 'hsl(180.0,50%,50%)'},\n",
       "  'name': '\"Развитие городской среды\"',\n",
       "  'type': 'box',\n",
       "  'y': 50515578.2},\n",
       " {'marker': {'color': 'hsl(198.0,50%,50%)'},\n",
       "  'name': '\"Экономическое развитие и инвестиционная привлекательность города Москвы\"',\n",
       "  'type': 'box',\n",
       "  'y': 21612134.9},\n",
       " {'marker': {'color': 'hsl(216.0,50%,50%)'},\n",
       "  'name': '\"Градостроительная политика\"',\n",
       "  'type': 'box',\n",
       "  'y': 25129005.9},\n",
       " {'marker': {'color': 'hsl(234.0,50%,50%)'},\n",
       "  'name': '\"Безопасный город\"',\n",
       "  'type': 'box',\n",
       "  'y': 51578051.0},\n",
       " {'marker': {'color': 'hsl(252.0,50%,50%)'},\n",
       "  'name': '\"Непрограммные направления деятельности органов государственной власти по руководству и управлению в сфере установленных функций органов государственной власти города Москвы\"',\n",
       "  'type': 'box',\n",
       "  'y': 60000000.0},\n",
       " {'marker': {'color': 'hsl(270.0,50%,50%)'},\n",
       "  'name': '\"Резервный фонд',\n",
       "  'type': 'box',\n",
       "  'y': 60000000.0},\n",
       " {'marker': {'color': 'hsl(288.0,50%,50%)'},\n",
       "  'name': 'предусмотренный в бюджете города Москвы\"',\n",
       "  'type': 'box',\n",
       "  'y': 938447.3},\n",
       " {'marker': {'color': 'hsl(306.0,50%,50%)'},\n",
       "  'name': '\"Непрограммные направления деятельности органов государственной власти в части предоставления межбюджетных трансфертов\"',\n",
       "  'type': 'box',\n",
       "  'y': 2977961.6},\n",
       " {'marker': {'color': 'hsl(324.0,50%,50%)'},\n",
       "  'name': '\"Мероприятия по осуществлению капитальных вложений',\n",
       "  'type': 'box',\n",
       "  'y': 2977961.6}]"
      ]
     },
     "execution_count": 150,
     "metadata": {},
     "output_type": "execute_result"
    }
   ],
   "source": [
    "data"
   ]
  },
  {
   "cell_type": "code",
   "execution_count": 124,
   "metadata": {},
   "outputs": [
    {
     "data": {
      "text/plain": [
       "'2977961,60'"
      ]
     },
     "execution_count": 124,
     "metadata": {},
     "output_type": "execute_result"
    }
   ],
   "source": [
    "arg"
   ]
  },
  {
   "cell_type": "code",
   "execution_count": 133,
   "metadata": {},
   "outputs": [],
   "source": [
    "arg"
   ]
  },
  {
   "cell_type": "code",
   "execution_count": 134,
   "metadata": {},
   "outputs": [
    {
     "data": {
      "text/plain": [
       "2977961.6"
      ]
     },
     "execution_count": 134,
     "metadata": {},
     "output_type": "execute_result"
    }
   ],
   "source": [
    "int_arg"
   ]
  },
  {
   "cell_type": "code",
   "execution_count": 153,
   "metadata": {},
   "outputs": [
    {
     "data": {
      "text/html": [
       "<div>\n",
       "<style>\n",
       "    .dataframe thead tr:only-child th {\n",
       "        text-align: right;\n",
       "    }\n",
       "\n",
       "    .dataframe thead th {\n",
       "        text-align: left;\n",
       "    }\n",
       "\n",
       "    .dataframe tbody tr th {\n",
       "        vertical-align: top;\n",
       "    }\n",
       "</style>\n",
       "<table border=\"1\" class=\"dataframe\">\n",
       "  <thead>\n",
       "    <tr style=\"text-align: right;\">\n",
       "      <th></th>\n",
       "      <th>2018</th>\n",
       "      <th>2019</th>\n",
       "      <th>2020</th>\n",
       "      <th>d_spr_w_csr_code</th>\n",
       "      <th>d_spr_w_csr_name</th>\n",
       "      <th>index</th>\n",
       "    </tr>\n",
       "  </thead>\n",
       "  <tbody>\n",
       "    <tr>\n",
       "      <th>19</th>\n",
       "      <td>2977961,60</td>\n",
       "      <td>4885894,60</td>\n",
       "      <td>37983375,20</td>\n",
       "      <td>3400000000</td>\n",
       "      <td>не включенные в государственные программы горо...</td>\n",
       "      <td>105</td>\n",
       "    </tr>\n",
       "  </tbody>\n",
       "</table>\n",
       "</div>"
      ],
      "text/plain": [
       "          2018        2019         2020 d_spr_w_csr_code  \\\n",
       "19  2977961,60  4885894,60  37983375,20       3400000000   \n",
       "\n",
       "                                     d_spr_w_csr_name  index  \n",
       "19  не включенные в государственные программы горо...    105  "
      ]
     },
     "execution_count": 153,
     "metadata": {},
     "output_type": "execute_result"
    }
   ],
   "source": [
    "genres_df[genres_df.index == listic[i]]\n"
   ]
  },
  {
   "cell_type": "code",
   "execution_count": null,
   "metadata": {},
   "outputs": [],
   "source": []
  },
  {
   "cell_type": "code",
   "execution_count": null,
   "metadata": {
    "collapsed": true
   },
   "outputs": [],
   "source": []
  }
 ],
 "metadata": {
  "kernelspec": {
   "display_name": "Python 3",
   "language": "python",
   "name": "python3"
  },
  "language_info": {
   "codemirror_mode": {
    "name": "ipython",
    "version": 3
   },
   "file_extension": ".py",
   "mimetype": "text/x-python",
   "name": "python",
   "nbconvert_exporter": "python",
   "pygments_lexer": "ipython3",
   "version": "3.6.3"
  }
 },
 "nbformat": 4,
 "nbformat_minor": 2
}
